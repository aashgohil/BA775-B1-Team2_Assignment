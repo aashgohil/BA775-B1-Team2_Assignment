{
 "cells": [
  {
   "cell_type": "markdown",
   "id": "c938e426",
   "metadata": {},
   "source": [
    "# Analysing hotel bookings, demand and factors affecting cancelations."
   ]
  },
  {
   "cell_type": "markdown",
   "id": "430dea63",
   "metadata": {},
   "source": [
    "**Team Members:**\n",
    "Zizheng Gao,\n",
    "Menghe Liu (Crystal),\n",
    "Eunjin Jeong (Jenny),\n",
    "Qianru Ai,\n",
    "Ta-Wei Wang (David),\n",
    "Aash Gohil"
   ]
  },
  {
   "cell_type": "markdown",
   "id": "6c9d7633",
   "metadata": {},
   "source": [
    "## Project Proposal:\n",
    "- To analyse existing hotel bookings, intrinsic difference's between the hotels, understanding the demographic data, and also the sources of demand.\n",
    "\n",
    "- Additionally, analyse and visualise relationships between the independent variables (like demographic data, lead time, change in booking, deposit paid, booking type etc.) and the probability of cancelation.\n",
    " \n",
    "- If possible, To try and predict using multivariate logistic regression or other ML Models, the probability of cancellation and predict demand, using ARIMA, or other forecasting models."
   ]
  },
  {
   "cell_type": "markdown",
   "id": "c8714b52",
   "metadata": {},
   "source": [
    "**Data Source:** “Hotel Booking Demand Dataset”, Data in Brief Journal Vol 22, Feb 2019 (https://www.kaggle.com/jessemostipak/hotel-booking-demand)"
   ]
  },
  {
   "cell_type": "markdown",
   "id": "ec9deafd",
   "metadata": {},
   "source": [
    "## About the Data"
   ]
  },
  {
   "cell_type": "markdown",
   "id": "a39b844a",
   "metadata": {},
   "source": [
    "This data describes hotel demand data for 2 hotels based in Portugal. One of the hotels is a resort hotel and the other is a city hotel. The datasets cointains 32 variables and 119k rows. Each observation/row represents a hotel booking, the data ranges from between the 1st of July of 2015 and the 31st of August 2017"
   ]
  },
  {
   "cell_type": "code",
   "execution_count": 5,
   "id": "34d998e3",
   "metadata": {},
   "outputs": [
    {
     "name": "stderr",
     "output_type": "stream",
     "text": [
      "Query complete after 0.00s: 100%|██████████| 1/1 [00:00<00:00, 505.70query/s] \n",
      "Downloading: 100%|██████████| 5/5 [00:01<00:00,  3.12rows/s]\n"
     ]
    },
    {
     "data": {
      "text/html": [
       "<div>\n",
       "<style scoped>\n",
       "    .dataframe tbody tr th:only-of-type {\n",
       "        vertical-align: middle;\n",
       "    }\n",
       "\n",
       "    .dataframe tbody tr th {\n",
       "        vertical-align: top;\n",
       "    }\n",
       "\n",
       "    .dataframe thead th {\n",
       "        text-align: right;\n",
       "    }\n",
       "</style>\n",
       "<table border=\"1\" class=\"dataframe\">\n",
       "  <thead>\n",
       "    <tr style=\"text-align: right;\">\n",
       "      <th></th>\n",
       "      <th>hotel</th>\n",
       "      <th>is_canceled</th>\n",
       "      <th>lead_time</th>\n",
       "      <th>arrival_date_year</th>\n",
       "      <th>arrival_date_month</th>\n",
       "      <th>arrival_date_week_number</th>\n",
       "      <th>arrival_date_day_of_month</th>\n",
       "      <th>stays_in_weekend_nights</th>\n",
       "      <th>stays_in_week_nights</th>\n",
       "      <th>adults</th>\n",
       "      <th>...</th>\n",
       "      <th>agent</th>\n",
       "      <th>company</th>\n",
       "      <th>days_in_waiting_list</th>\n",
       "      <th>customer_type</th>\n",
       "      <th>adr</th>\n",
       "      <th>required_car_parking_spaces</th>\n",
       "      <th>total_of_special_requests</th>\n",
       "      <th>reservation_status</th>\n",
       "      <th>reservation_status_date</th>\n",
       "      <th>Arrival_month_num</th>\n",
       "    </tr>\n",
       "  </thead>\n",
       "  <tbody>\n",
       "    <tr>\n",
       "      <th>0</th>\n",
       "      <td>City Hotel</td>\n",
       "      <td>1</td>\n",
       "      <td>26</td>\n",
       "      <td>2017</td>\n",
       "      <td>January</td>\n",
       "      <td>1</td>\n",
       "      <td>1</td>\n",
       "      <td>1</td>\n",
       "      <td>0</td>\n",
       "      <td>1</td>\n",
       "      <td>...</td>\n",
       "      <td>9</td>\n",
       "      <td>NULL</td>\n",
       "      <td>0</td>\n",
       "      <td>Transient</td>\n",
       "      <td>128.0</td>\n",
       "      <td>0</td>\n",
       "      <td>2</td>\n",
       "      <td>Canceled</td>\n",
       "      <td>2016-12-17</td>\n",
       "      <td>1</td>\n",
       "    </tr>\n",
       "    <tr>\n",
       "      <th>1</th>\n",
       "      <td>City Hotel</td>\n",
       "      <td>1</td>\n",
       "      <td>26</td>\n",
       "      <td>2017</td>\n",
       "      <td>January</td>\n",
       "      <td>1</td>\n",
       "      <td>1</td>\n",
       "      <td>2</td>\n",
       "      <td>2</td>\n",
       "      <td>2</td>\n",
       "      <td>...</td>\n",
       "      <td>9</td>\n",
       "      <td>NULL</td>\n",
       "      <td>0</td>\n",
       "      <td>Transient</td>\n",
       "      <td>103.7</td>\n",
       "      <td>0</td>\n",
       "      <td>0</td>\n",
       "      <td>Canceled</td>\n",
       "      <td>2016-12-17</td>\n",
       "      <td>1</td>\n",
       "    </tr>\n",
       "    <tr>\n",
       "      <th>2</th>\n",
       "      <td>Resort Hotel</td>\n",
       "      <td>1</td>\n",
       "      <td>42</td>\n",
       "      <td>2017</td>\n",
       "      <td>January</td>\n",
       "      <td>1</td>\n",
       "      <td>2</td>\n",
       "      <td>1</td>\n",
       "      <td>0</td>\n",
       "      <td>2</td>\n",
       "      <td>...</td>\n",
       "      <td>242</td>\n",
       "      <td>NULL</td>\n",
       "      <td>0</td>\n",
       "      <td>Transient</td>\n",
       "      <td>42.0</td>\n",
       "      <td>0</td>\n",
       "      <td>0</td>\n",
       "      <td>Canceled</td>\n",
       "      <td>2016-12-17</td>\n",
       "      <td>1</td>\n",
       "    </tr>\n",
       "    <tr>\n",
       "      <th>3</th>\n",
       "      <td>Resort Hotel</td>\n",
       "      <td>1</td>\n",
       "      <td>42</td>\n",
       "      <td>2017</td>\n",
       "      <td>January</td>\n",
       "      <td>1</td>\n",
       "      <td>2</td>\n",
       "      <td>1</td>\n",
       "      <td>0</td>\n",
       "      <td>2</td>\n",
       "      <td>...</td>\n",
       "      <td>242</td>\n",
       "      <td>NULL</td>\n",
       "      <td>0</td>\n",
       "      <td>Transient</td>\n",
       "      <td>42.0</td>\n",
       "      <td>0</td>\n",
       "      <td>0</td>\n",
       "      <td>Canceled</td>\n",
       "      <td>2016-12-17</td>\n",
       "      <td>1</td>\n",
       "    </tr>\n",
       "    <tr>\n",
       "      <th>4</th>\n",
       "      <td>City Hotel</td>\n",
       "      <td>1</td>\n",
       "      <td>43</td>\n",
       "      <td>2017</td>\n",
       "      <td>January</td>\n",
       "      <td>1</td>\n",
       "      <td>5</td>\n",
       "      <td>1</td>\n",
       "      <td>3</td>\n",
       "      <td>2</td>\n",
       "      <td>...</td>\n",
       "      <td>9</td>\n",
       "      <td>NULL</td>\n",
       "      <td>0</td>\n",
       "      <td>Transient</td>\n",
       "      <td>74.8</td>\n",
       "      <td>0</td>\n",
       "      <td>0</td>\n",
       "      <td>Canceled</td>\n",
       "      <td>2016-12-19</td>\n",
       "      <td>1</td>\n",
       "    </tr>\n",
       "  </tbody>\n",
       "</table>\n",
       "<p>5 rows × 33 columns</p>\n",
       "</div>"
      ],
      "text/plain": [
       "          hotel  is_canceled  lead_time  arrival_date_year arrival_date_month  \\\n",
       "0    City Hotel            1         26               2017            January   \n",
       "1    City Hotel            1         26               2017            January   \n",
       "2  Resort Hotel            1         42               2017            January   \n",
       "3  Resort Hotel            1         42               2017            January   \n",
       "4    City Hotel            1         43               2017            January   \n",
       "\n",
       "   arrival_date_week_number  arrival_date_day_of_month  \\\n",
       "0                         1                          1   \n",
       "1                         1                          1   \n",
       "2                         1                          2   \n",
       "3                         1                          2   \n",
       "4                         1                          5   \n",
       "\n",
       "   stays_in_weekend_nights  stays_in_week_nights  adults  ...  agent  company  \\\n",
       "0                        1                     0       1  ...      9     NULL   \n",
       "1                        2                     2       2  ...      9     NULL   \n",
       "2                        1                     0       2  ...    242     NULL   \n",
       "3                        1                     0       2  ...    242     NULL   \n",
       "4                        1                     3       2  ...      9     NULL   \n",
       "\n",
       "  days_in_waiting_list customer_type    adr required_car_parking_spaces  \\\n",
       "0                    0     Transient  128.0                           0   \n",
       "1                    0     Transient  103.7                           0   \n",
       "2                    0     Transient   42.0                           0   \n",
       "3                    0     Transient   42.0                           0   \n",
       "4                    0     Transient   74.8                           0   \n",
       "\n",
       "   total_of_special_requests  reservation_status  reservation_status_date  \\\n",
       "0                          2            Canceled               2016-12-17   \n",
       "1                          0            Canceled               2016-12-17   \n",
       "2                          0            Canceled               2016-12-17   \n",
       "3                          0            Canceled               2016-12-17   \n",
       "4                          0            Canceled               2016-12-19   \n",
       "\n",
       "  Arrival_month_num  \n",
       "0                 1  \n",
       "1                 1  \n",
       "2                 1  \n",
       "3                 1  \n",
       "4                 1  \n",
       "\n",
       "[5 rows x 33 columns]"
      ]
     },
     "execution_count": 5,
     "metadata": {},
     "output_type": "execute_result"
    }
   ],
   "source": [
    "%%bigquery\n",
    "Select * from `ba775-project-t-2-b-1.hotel_booking.hotel_booking_dataset` LIMIT 5"
   ]
  },
  {
   "cell_type": "markdown",
   "id": "35412f9d",
   "metadata": {},
   "source": [
    "## 1. Demographic Analysis"
   ]
  },
  {
   "cell_type": "markdown",
   "id": "96989366",
   "metadata": {},
   "source": [
    "### 1.1 Which country do most vistors come from?"
   ]
  },
  {
   "cell_type": "markdown",
   "id": "9ec9b8f7",
   "metadata": {},
   "source": [
    "Majoritiy of the vistors come from Portugal, which counts for 40.7% of the total visitors. This makes sense since both the hotels are based in Portugal."
   ]
  },
  {
   "cell_type": "code",
   "execution_count": 7,
   "id": "fe7087ba",
   "metadata": {},
   "outputs": [
    {
     "name": "stderr",
     "output_type": "stream",
     "text": [
      "Query complete after 0.00s: 100%|██████████| 1/1 [00:00<00:00, 764.69query/s] \n",
      "Downloading: 100%|██████████| 5/5 [00:01<00:00,  3.81rows/s]\n"
     ]
    },
    {
     "data": {
      "text/html": [
       "<div>\n",
       "<style scoped>\n",
       "    .dataframe tbody tr th:only-of-type {\n",
       "        vertical-align: middle;\n",
       "    }\n",
       "\n",
       "    .dataframe tbody tr th {\n",
       "        vertical-align: top;\n",
       "    }\n",
       "\n",
       "    .dataframe thead th {\n",
       "        text-align: right;\n",
       "    }\n",
       "</style>\n",
       "<table border=\"1\" class=\"dataframe\">\n",
       "  <thead>\n",
       "    <tr style=\"text-align: right;\">\n",
       "      <th></th>\n",
       "      <th>country</th>\n",
       "      <th>booing_num</th>\n",
       "      <th>percentage_of_total</th>\n",
       "    </tr>\n",
       "  </thead>\n",
       "  <tbody>\n",
       "    <tr>\n",
       "      <th>0</th>\n",
       "      <td>PRT</td>\n",
       "      <td>48590</td>\n",
       "      <td>40.70</td>\n",
       "    </tr>\n",
       "    <tr>\n",
       "      <th>1</th>\n",
       "      <td>GBR</td>\n",
       "      <td>12129</td>\n",
       "      <td>10.16</td>\n",
       "    </tr>\n",
       "    <tr>\n",
       "      <th>2</th>\n",
       "      <td>FRA</td>\n",
       "      <td>10415</td>\n",
       "      <td>8.72</td>\n",
       "    </tr>\n",
       "    <tr>\n",
       "      <th>3</th>\n",
       "      <td>ESP</td>\n",
       "      <td>8568</td>\n",
       "      <td>7.18</td>\n",
       "    </tr>\n",
       "    <tr>\n",
       "      <th>4</th>\n",
       "      <td>DEU</td>\n",
       "      <td>7287</td>\n",
       "      <td>6.10</td>\n",
       "    </tr>\n",
       "  </tbody>\n",
       "</table>\n",
       "</div>"
      ],
      "text/plain": [
       "  country  booing_num  percentage_of_total\n",
       "0     PRT       48590                40.70\n",
       "1     GBR       12129                10.16\n",
       "2     FRA       10415                 8.72\n",
       "3     ESP        8568                 7.18\n",
       "4     DEU        7287                 6.10"
      ]
     },
     "execution_count": 7,
     "metadata": {},
     "output_type": "execute_result"
    }
   ],
   "source": [
    "%%bigquery\n",
    "select country, count(*) as booing_num, round(count(*)*100/(select count(*) from `ba775-project-t-2-b-1.hotel_booking.hotel_booking_dataset`),2)\n",
    "as percentage_of_total from `ba775-project-t-2-b-1.hotel_booking.hotel_booking_dataset`\n",
    "group by country\n",
    "order by percentage_of_total desc\n",
    "limit 5"
   ]
  },
  {
   "cell_type": "markdown",
   "id": "d8632936",
   "metadata": {},
   "source": [
    "### 1.2 What is the most common vistors' group size"
   ]
  },
  {
   "cell_type": "markdown",
   "id": "f72e9815",
   "metadata": {},
   "source": [
    "68% of the bookings are made by a group of two adults, and more than 90% of the bookings are made by groups without kids."
   ]
  },
  {
   "cell_type": "code",
   "execution_count": 9,
   "id": "7e8b2aa5",
   "metadata": {},
   "outputs": [
    {
     "name": "stderr",
     "output_type": "stream",
     "text": [
      "Query complete after 0.00s: 100%|██████████| 1/1 [00:00<00:00, 1125.38query/s]\n",
      "Downloading: 100%|██████████| 5/5 [00:01<00:00,  3.26rows/s]\n"
     ]
    },
    {
     "data": {
      "text/html": [
       "<div>\n",
       "<style scoped>\n",
       "    .dataframe tbody tr th:only-of-type {\n",
       "        vertical-align: middle;\n",
       "    }\n",
       "\n",
       "    .dataframe tbody tr th {\n",
       "        vertical-align: top;\n",
       "    }\n",
       "\n",
       "    .dataframe thead th {\n",
       "        text-align: right;\n",
       "    }\n",
       "</style>\n",
       "<table border=\"1\" class=\"dataframe\">\n",
       "  <thead>\n",
       "    <tr style=\"text-align: right;\">\n",
       "      <th></th>\n",
       "      <th>type</th>\n",
       "      <th>num</th>\n",
       "      <th>percentage_of_total</th>\n",
       "    </tr>\n",
       "  </thead>\n",
       "  <tbody>\n",
       "    <tr>\n",
       "      <th>0</th>\n",
       "      <td>2 adults, 0 children</td>\n",
       "      <td>81560</td>\n",
       "      <td>68.31</td>\n",
       "    </tr>\n",
       "    <tr>\n",
       "      <th>1</th>\n",
       "      <td>1 adults, 0 children</td>\n",
       "      <td>22577</td>\n",
       "      <td>18.91</td>\n",
       "    </tr>\n",
       "    <tr>\n",
       "      <th>2</th>\n",
       "      <td>3 adults, 0 children</td>\n",
       "      <td>5666</td>\n",
       "      <td>4.75</td>\n",
       "    </tr>\n",
       "    <tr>\n",
       "      <th>3</th>\n",
       "      <td>2 adults, 1 children</td>\n",
       "      <td>4658</td>\n",
       "      <td>3.90</td>\n",
       "    </tr>\n",
       "    <tr>\n",
       "      <th>4</th>\n",
       "      <td>2 adults, 2 children</td>\n",
       "      <td>3369</td>\n",
       "      <td>2.82</td>\n",
       "    </tr>\n",
       "  </tbody>\n",
       "</table>\n",
       "</div>"
      ],
      "text/plain": [
       "                   type    num  percentage_of_total\n",
       "0  2 adults, 0 children  81560                68.31\n",
       "1  1 adults, 0 children  22577                18.91\n",
       "2  3 adults, 0 children   5666                 4.75\n",
       "3  2 adults, 1 children   4658                 3.90\n",
       "4  2 adults, 2 children   3369                 2.82"
      ]
     },
     "execution_count": 9,
     "metadata": {},
     "output_type": "execute_result"
    }
   ],
   "source": [
    "%%bigquery\n",
    "SELECT distinct concat(adults,' adults, ',children+babies,' children') as type, count(hotel) as num,\n",
    "round(count(hotel)*100/(select count(*) from `ba775-project-t-2-b-1.hotel_booking.hotel_booking_dataset`),2) as percentage_of_total\n",
    "FROM `ba775-project-t-2-b-1.hotel_booking.hotel_booking_dataset`\n",
    "group by type\n",
    "order by num DESC\n",
    "limit 5"
   ]
  },
  {
   "cell_type": "markdown",
   "id": "bb86e4d7",
   "metadata": {},
   "source": [
    "### 1.3 Bookings made by First time customers vs Repeat customers"
   ]
  },
  {
   "cell_type": "markdown",
   "id": "1817b8ef",
   "metadata": {},
   "source": [
    "Most of the bookings are made by first-time guests, and only 3.19% of the bookings are made by repeated guests."
   ]
  },
  {
   "cell_type": "code",
   "execution_count": 11,
   "id": "28cb90ec",
   "metadata": {},
   "outputs": [
    {
     "name": "stderr",
     "output_type": "stream",
     "text": [
      "Query complete after 0.00s: 100%|██████████| 1/1 [00:00<00:00, 912.80query/s] \n",
      "Downloading: 100%|██████████| 2/2 [00:01<00:00,  1.26rows/s]\n"
     ]
    },
    {
     "data": {
      "text/html": [
       "<div>\n",
       "<style scoped>\n",
       "    .dataframe tbody tr th:only-of-type {\n",
       "        vertical-align: middle;\n",
       "    }\n",
       "\n",
       "    .dataframe tbody tr th {\n",
       "        vertical-align: top;\n",
       "    }\n",
       "\n",
       "    .dataframe thead th {\n",
       "        text-align: right;\n",
       "    }\n",
       "</style>\n",
       "<table border=\"1\" class=\"dataframe\">\n",
       "  <thead>\n",
       "    <tr style=\"text-align: right;\">\n",
       "      <th></th>\n",
       "      <th>repeated</th>\n",
       "      <th>guest_num</th>\n",
       "      <th>percentage_of_total</th>\n",
       "    </tr>\n",
       "  </thead>\n",
       "  <tbody>\n",
       "    <tr>\n",
       "      <th>0</th>\n",
       "      <td>New_Guest</td>\n",
       "      <td>115580</td>\n",
       "      <td>96.81</td>\n",
       "    </tr>\n",
       "    <tr>\n",
       "      <th>1</th>\n",
       "      <td>Repeated</td>\n",
       "      <td>3810</td>\n",
       "      <td>3.19</td>\n",
       "    </tr>\n",
       "  </tbody>\n",
       "</table>\n",
       "</div>"
      ],
      "text/plain": [
       "    repeated  guest_num  percentage_of_total\n",
       "0  New_Guest     115580                96.81\n",
       "1   Repeated       3810                 3.19"
      ]
     },
     "execution_count": 11,
     "metadata": {},
     "output_type": "execute_result"
    }
   ],
   "source": [
    "%%bigquery\n",
    "SELECT CASE \n",
    "    when is_repeated_guest = 1 then 'Repeated'\n",
    "    Else 'New_Guest'\n",
    "    End as repeated\n",
    ",count(*) as guest_num, round(count(*)*100/(select count(*) from `ba775-project-t-2-b-1.hotel_booking.hotel_booking_dataset`),2)\n",
    "as percentage_of_total FROM `ba775-project-t-2-b-1.hotel_booking.hotel_booking_dataset` \n",
    "group by repeated"
   ]
  },
  {
   "cell_type": "markdown",
   "id": "7233071c",
   "metadata": {},
   "source": [
    "## 2. Hotel Analysis"
   ]
  },
  {
   "cell_type": "markdown",
   "id": "21596fe9",
   "metadata": {},
   "source": [
    "### 2.1 Average wait time for each hotel and its impact"
   ]
  },
  {
   "cell_type": "markdown",
   "id": "7500a393",
   "metadata": {},
   "source": [
    "The average waiting days to get a room are longer for city hotels than resort hotels. The average waiting days for get a room in city hotels is about 3 days, compared to 0.5 days for resort hotels."
   ]
  },
  {
   "cell_type": "markdown",
   "id": "f61980f1",
   "metadata": {},
   "source": [
    "This can impact cancellation, with\n",
    "City hotel bookings being more likely to be cancelled, since 41.73% of the times a reservation of a city hotel is canceled, and only 27.76% of the times a resort hotel is canceled by guests."
   ]
  },
  {
   "cell_type": "code",
   "execution_count": 14,
   "id": "35bb81c5",
   "metadata": {},
   "outputs": [
    {
     "name": "stderr",
     "output_type": "stream",
     "text": [
      "Query complete after 0.00s: 100%|██████████| 2/2 [00:00<00:00, 1071.07query/s]                        \n",
      "Downloading: 100%|██████████| 2/2 [00:01<00:00,  1.30rows/s]\n"
     ]
    },
    {
     "data": {
      "text/html": [
       "<div>\n",
       "<style scoped>\n",
       "    .dataframe tbody tr th:only-of-type {\n",
       "        vertical-align: middle;\n",
       "    }\n",
       "\n",
       "    .dataframe tbody tr th {\n",
       "        vertical-align: top;\n",
       "    }\n",
       "\n",
       "    .dataframe thead th {\n",
       "        text-align: right;\n",
       "    }\n",
       "</style>\n",
       "<table border=\"1\" class=\"dataframe\">\n",
       "  <thead>\n",
       "    <tr style=\"text-align: right;\">\n",
       "      <th></th>\n",
       "      <th>hotel</th>\n",
       "      <th>avg_waiting_days</th>\n",
       "      <th>cancellation_rate</th>\n",
       "    </tr>\n",
       "  </thead>\n",
       "  <tbody>\n",
       "    <tr>\n",
       "      <th>0</th>\n",
       "      <td>City Hotel</td>\n",
       "      <td>3.226774</td>\n",
       "      <td>41.73</td>\n",
       "    </tr>\n",
       "    <tr>\n",
       "      <th>1</th>\n",
       "      <td>Resort Hotel</td>\n",
       "      <td>0.527758</td>\n",
       "      <td>27.76</td>\n",
       "    </tr>\n",
       "  </tbody>\n",
       "</table>\n",
       "</div>"
      ],
      "text/plain": [
       "          hotel  avg_waiting_days  cancellation_rate\n",
       "0    City Hotel          3.226774              41.73\n",
       "1  Resort Hotel          0.527758              27.76"
      ]
     },
     "execution_count": 14,
     "metadata": {},
     "output_type": "execute_result"
    }
   ],
   "source": [
    "%%bigquery\n",
    "SELECT hotel, AVG(days_in_waiting_list) AS avg_waiting_days,\n",
    "ROUND(sum(is_canceled)*100/count(is_canceled),2) AS cancellation_rate\n",
    "FROM `ba775-project-t-2-b-1.hotel_booking.hotel_booking_dataset`\n",
    "GROUP BY hotel"
   ]
  },
  {
   "cell_type": "markdown",
   "id": "c6538811",
   "metadata": {},
   "source": [
    "### 2.2 Nights spent for each hotel and average daily spend"
   ]
  },
  {
   "cell_type": "markdown",
   "id": "734bef7d",
   "metadata": {},
   "source": [
    "On average, guest spend close to a day longer at the resort hotel than the city hotel. However Guests spend more per day during their stay at the city hotel than at resport hotel by 15 euro"
   ]
  },
  {
   "cell_type": "code",
   "execution_count": 55,
   "id": "1630af5c",
   "metadata": {},
   "outputs": [
    {
     "name": "stderr",
     "output_type": "stream",
     "text": [
      "Query complete after 0.00s: 100%|██████████| 2/2 [00:00<00:00, 964.98query/s]                         \n",
      "Downloading: 100%|██████████| 2/2 [00:01<00:00,  1.34rows/s]\n"
     ]
    },
    {
     "data": {
      "text/html": [
       "<div>\n",
       "<style scoped>\n",
       "    .dataframe tbody tr th:only-of-type {\n",
       "        vertical-align: middle;\n",
       "    }\n",
       "\n",
       "    .dataframe tbody tr th {\n",
       "        vertical-align: top;\n",
       "    }\n",
       "\n",
       "    .dataframe thead th {\n",
       "        text-align: right;\n",
       "    }\n",
       "</style>\n",
       "<table border=\"1\" class=\"dataframe\">\n",
       "  <thead>\n",
       "    <tr style=\"text-align: right;\">\n",
       "      <th></th>\n",
       "      <th>hotel</th>\n",
       "      <th>Avg_weekend_nights</th>\n",
       "      <th>Avg__weekday_nights</th>\n",
       "      <th>Avg_ttl_nights</th>\n",
       "      <th>Avg_Daily_spend_during_stay</th>\n",
       "    </tr>\n",
       "  </thead>\n",
       "  <tbody>\n",
       "    <tr>\n",
       "      <th>0</th>\n",
       "      <td>Resort Hotel</td>\n",
       "      <td>1.13</td>\n",
       "      <td>3.01</td>\n",
       "      <td>4.14</td>\n",
       "      <td>90.79</td>\n",
       "    </tr>\n",
       "    <tr>\n",
       "      <th>1</th>\n",
       "      <td>City Hotel</td>\n",
       "      <td>0.80</td>\n",
       "      <td>2.12</td>\n",
       "      <td>2.92</td>\n",
       "      <td>105.75</td>\n",
       "    </tr>\n",
       "  </tbody>\n",
       "</table>\n",
       "</div>"
      ],
      "text/plain": [
       "          hotel  Avg_weekend_nights  Avg__weekday_nights  Avg_ttl_nights  \\\n",
       "0  Resort Hotel                1.13                 3.01            4.14   \n",
       "1    City Hotel                0.80                 2.12            2.92   \n",
       "\n",
       "   Avg_Daily_spend_during_stay  \n",
       "0                        90.79  \n",
       "1                       105.75  "
      ]
     },
     "execution_count": 55,
     "metadata": {},
     "output_type": "execute_result"
    }
   ],
   "source": [
    "%%bigquery\n",
    "select hotel, round(avg(stays_in_weekend_nights),2) Avg_weekend_nights\n",
    ", round(avg(stays_in_week_nights),2) Avg__weekday_nights\n",
    ", round(avg(stays_in_week_nights + stays_in_weekend_nights),2) Avg_ttl_nights\n",
    ", round(avg(adr),2) Avg_Daily_spend_during_stay\n",
    "from `ba775-project-t-2-b-1.hotel_booking.hotel_booking_dataset` \n",
    "where is_canceled != 1 group by 1"
   ]
  },
  {
   "cell_type": "markdown",
   "id": "cefbc1c7",
   "metadata": {},
   "source": [
    "### 2.3 Which type of hotel is more popular among guests with children and babies?"
   ]
  },
  {
   "cell_type": "markdown",
   "id": "fb099f1a",
   "metadata": {},
   "source": [
    "For families with kids and babies, resort hotels are more popular than city hotels."
   ]
  },
  {
   "cell_type": "markdown",
   "id": "f1a17558",
   "metadata": {},
   "source": [
    "Although there are more guests with kids stayed in city hotels, this type of guest actually prefers staying in resort hotels. Because the total number of reservations is higher for city hotels than resort hotels, the absolute percentage for families with kids staying in resort hotel among total reservations in resort hotels is higher than that in city hotels. Moreover, among all families with kids or babies, 59.03% of them chose to stay in resort hotels, and 40.97% of them stayed in city hotels. In conclusion, resort hotels are prefered by families with kids and babies."
   ]
  },
  {
   "cell_type": "code",
   "execution_count": 15,
   "id": "c5c0632f",
   "metadata": {},
   "outputs": [
    {
     "name": "stderr",
     "output_type": "stream",
     "text": [
      "Query complete after 0.00s: 100%|██████████| 1/1 [00:00<00:00, 870.19query/s] \n",
      "Downloading: 100%|██████████| 2/2 [00:01<00:00,  1.27rows/s]\n"
     ]
    },
    {
     "data": {
      "text/html": [
       "<div>\n",
       "<style scoped>\n",
       "    .dataframe tbody tr th:only-of-type {\n",
       "        vertical-align: middle;\n",
       "    }\n",
       "\n",
       "    .dataframe tbody tr th {\n",
       "        vertical-align: top;\n",
       "    }\n",
       "\n",
       "    .dataframe thead th {\n",
       "        text-align: right;\n",
       "    }\n",
       "</style>\n",
       "<table border=\"1\" class=\"dataframe\">\n",
       "  <thead>\n",
       "    <tr style=\"text-align: right;\">\n",
       "      <th></th>\n",
       "      <th>hotel</th>\n",
       "      <th>Guest_with_kids</th>\n",
       "      <th>Total_Bookings</th>\n",
       "      <th>Absolute_pop_percent</th>\n",
       "      <th>Relative_Popularity_for_guest_w_kids</th>\n",
       "    </tr>\n",
       "  </thead>\n",
       "  <tbody>\n",
       "    <tr>\n",
       "      <th>0</th>\n",
       "      <td>City Hotel</td>\n",
       "      <td>5403</td>\n",
       "      <td>79330</td>\n",
       "      <td>6.81</td>\n",
       "      <td>40.97</td>\n",
       "    </tr>\n",
       "    <tr>\n",
       "      <th>1</th>\n",
       "      <td>Resort Hotel</td>\n",
       "      <td>3929</td>\n",
       "      <td>40060</td>\n",
       "      <td>9.81</td>\n",
       "      <td>59.03</td>\n",
       "    </tr>\n",
       "  </tbody>\n",
       "</table>\n",
       "</div>"
      ],
      "text/plain": [
       "          hotel  Guest_with_kids  Total_Bookings  Absolute_pop_percent  \\\n",
       "0    City Hotel             5403           79330                  6.81   \n",
       "1  Resort Hotel             3929           40060                  9.81   \n",
       "\n",
       "   Relative_Popularity_for_guest_w_kids  \n",
       "0                                 40.97  \n",
       "1                                 59.03  "
      ]
     },
     "execution_count": 15,
     "metadata": {},
     "output_type": "execute_result"
    }
   ],
   "source": [
    "%%bigquery\n",
    "with main as \n",
    "(SELECT *, round(Guest_with_kids*100/Total_Bookings,2) as Absolute_pop_percent\n",
    "FROM (\n",
    "SELECT hotel, Count(if(children != 0 or babies !=0, True, Null)) as Guest_with_kids, count(*) AS Total_Bookings\n",
    "FROM `ba775-project-t-2-b-1.hotel_booking.hotel_booking_dataset` group by 1\n",
    "))\n",
    "\n",
    "select *, round(Absolute_pop_percent*100/(select sum(Absolute_pop_percent) from main),2) as Relative_Popularity_for_guest_w_kids\n",
    "from main;"
   ]
  },
  {
   "cell_type": "markdown",
   "id": "de66947c",
   "metadata": {},
   "source": [
    "### 2.4 Which type of hotels is the more popular among guests without children?"
   ]
  },
  {
   "cell_type": "markdown",
   "id": "82bd5083",
   "metadata": {},
   "source": [
    "For guests without children, city hotels are more popular than resort hotels, but the difference in popularity in this case is not significant."
   ]
  },
  {
   "cell_type": "markdown",
   "id": "57d8780f",
   "metadata": {},
   "source": [
    "Among all the reservations in city hotels, 93.19% of guests stayed in the hotel without kids or babies. Among all the reservations in resort hotels, 90.19% of guests stayed in the hotel without kids or babies. Moreover, among all guests stayed in hotels without kids, 50.82% of them chose to stay in city hotels, and 49.18% of them stayed in resort hotels."
   ]
  },
  {
   "cell_type": "code",
   "execution_count": 17,
   "id": "135bc0f0",
   "metadata": {},
   "outputs": [
    {
     "name": "stderr",
     "output_type": "stream",
     "text": [
      "Query complete after 0.00s: 100%|██████████| 5/5 [00:00<00:00, 2615.23query/s]                        \n",
      "Downloading: 100%|██████████| 2/2 [00:01<00:00,  1.37rows/s]\n"
     ]
    },
    {
     "data": {
      "text/html": [
       "<div>\n",
       "<style scoped>\n",
       "    .dataframe tbody tr th:only-of-type {\n",
       "        vertical-align: middle;\n",
       "    }\n",
       "\n",
       "    .dataframe tbody tr th {\n",
       "        vertical-align: top;\n",
       "    }\n",
       "\n",
       "    .dataframe thead th {\n",
       "        text-align: right;\n",
       "    }\n",
       "</style>\n",
       "<table border=\"1\" class=\"dataframe\">\n",
       "  <thead>\n",
       "    <tr style=\"text-align: right;\">\n",
       "      <th></th>\n",
       "      <th>hotel</th>\n",
       "      <th>Guest_without_kids</th>\n",
       "      <th>Total_Bookings</th>\n",
       "      <th>Absolute_pop_percent_no_kids</th>\n",
       "      <th>Relative_Popularity_for_guest_no_kids</th>\n",
       "    </tr>\n",
       "  </thead>\n",
       "  <tbody>\n",
       "    <tr>\n",
       "      <th>0</th>\n",
       "      <td>City Hotel</td>\n",
       "      <td>73927</td>\n",
       "      <td>79330</td>\n",
       "      <td>93.19</td>\n",
       "      <td>50.82</td>\n",
       "    </tr>\n",
       "    <tr>\n",
       "      <th>1</th>\n",
       "      <td>Resort Hotel</td>\n",
       "      <td>36131</td>\n",
       "      <td>40060</td>\n",
       "      <td>90.19</td>\n",
       "      <td>49.18</td>\n",
       "    </tr>\n",
       "  </tbody>\n",
       "</table>\n",
       "</div>"
      ],
      "text/plain": [
       "          hotel  Guest_without_kids  Total_Bookings  \\\n",
       "0    City Hotel               73927           79330   \n",
       "1  Resort Hotel               36131           40060   \n",
       "\n",
       "   Absolute_pop_percent_no_kids  Relative_Popularity_for_guest_no_kids  \n",
       "0                         93.19                                  50.82  \n",
       "1                         90.19                                  49.18  "
      ]
     },
     "execution_count": 17,
     "metadata": {},
     "output_type": "execute_result"
    }
   ],
   "source": [
    "%%bigquery\n",
    "with main2 as\n",
    "(SELECT *, round(Guest_without_kids*100/Total_Bookings,2) as Absolute_pop_percent_no_kids\n",
    "FROM (\n",
    "SELECT hotel, Count(if(children = 0 and babies =0, True, Null)) as Guest_without_kids, count(*) AS Total_Bookings\n",
    "FROM `ba775-project-t-2-b-1.hotel_booking.hotel_booking_dataset` group by 1\n",
    "))\n",
    "select *, round(Absolute_pop_percent_no_kids*100/(select sum(Absolute_pop_percent_no_kids) from main2),2)as Relative_Popularity_for_guest_no_kids\n",
    "from main2;"
   ]
  },
  {
   "cell_type": "markdown",
   "id": "25dd4e3e",
   "metadata": {},
   "source": [
    "## 3. Demand Analysis"
   ]
  },
  {
   "cell_type": "markdown",
   "id": "f9499604",
   "metadata": {},
   "source": [
    "### 3.1 What type of booking channel do guests prefer the most?"
   ]
  },
  {
   "cell_type": "markdown",
   "id": "ff3efdc6",
   "metadata": {},
   "source": [
    "The result shows that ONLINE TA (Online Travel Agent) is the most preferred booking channel by guests accounting for close to 47% of the bookings, followed by Offline TA/TO (Offline Travel Agent/ Tour Operator) accounting for roughly 20% of bookings"
   ]
  },
  {
   "cell_type": "code",
   "execution_count": 34,
   "id": "c6f0c7fc",
   "metadata": {},
   "outputs": [
    {
     "name": "stderr",
     "output_type": "stream",
     "text": [
      "Query complete after 0.00s: 100%|██████████| 1/1 [00:00<00:00, 958.26query/s] \n",
      "Downloading: 100%|██████████| 8/8 [00:01<00:00,  4.91rows/s]\n"
     ]
    },
    {
     "data": {
      "text/html": [
       "<div>\n",
       "<style scoped>\n",
       "    .dataframe tbody tr th:only-of-type {\n",
       "        vertical-align: middle;\n",
       "    }\n",
       "\n",
       "    .dataframe tbody tr th {\n",
       "        vertical-align: top;\n",
       "    }\n",
       "\n",
       "    .dataframe thead th {\n",
       "        text-align: right;\n",
       "    }\n",
       "</style>\n",
       "<table border=\"1\" class=\"dataframe\">\n",
       "  <thead>\n",
       "    <tr style=\"text-align: right;\">\n",
       "      <th></th>\n",
       "      <th>market_segment</th>\n",
       "      <th>num_guests</th>\n",
       "      <th>percent_of_guests</th>\n",
       "    </tr>\n",
       "  </thead>\n",
       "  <tbody>\n",
       "    <tr>\n",
       "      <th>0</th>\n",
       "      <td>Online TA</td>\n",
       "      <td>56477</td>\n",
       "      <td>47.30</td>\n",
       "    </tr>\n",
       "    <tr>\n",
       "      <th>1</th>\n",
       "      <td>Offline TA/TO</td>\n",
       "      <td>24219</td>\n",
       "      <td>20.29</td>\n",
       "    </tr>\n",
       "    <tr>\n",
       "      <th>2</th>\n",
       "      <td>Groups</td>\n",
       "      <td>19811</td>\n",
       "      <td>16.59</td>\n",
       "    </tr>\n",
       "    <tr>\n",
       "      <th>3</th>\n",
       "      <td>Direct</td>\n",
       "      <td>12606</td>\n",
       "      <td>10.56</td>\n",
       "    </tr>\n",
       "    <tr>\n",
       "      <th>4</th>\n",
       "      <td>Corporate</td>\n",
       "      <td>5295</td>\n",
       "      <td>4.44</td>\n",
       "    </tr>\n",
       "    <tr>\n",
       "      <th>5</th>\n",
       "      <td>Complementary</td>\n",
       "      <td>743</td>\n",
       "      <td>0.62</td>\n",
       "    </tr>\n",
       "    <tr>\n",
       "      <th>6</th>\n",
       "      <td>Aviation</td>\n",
       "      <td>237</td>\n",
       "      <td>0.20</td>\n",
       "    </tr>\n",
       "    <tr>\n",
       "      <th>7</th>\n",
       "      <td>Undefined</td>\n",
       "      <td>2</td>\n",
       "      <td>0.00</td>\n",
       "    </tr>\n",
       "  </tbody>\n",
       "</table>\n",
       "</div>"
      ],
      "text/plain": [
       "  market_segment  num_guests  percent_of_guests\n",
       "0      Online TA       56477              47.30\n",
       "1  Offline TA/TO       24219              20.29\n",
       "2         Groups       19811              16.59\n",
       "3         Direct       12606              10.56\n",
       "4      Corporate        5295               4.44\n",
       "5  Complementary         743               0.62\n",
       "6       Aviation         237               0.20\n",
       "7      Undefined           2               0.00"
      ]
     },
     "execution_count": 34,
     "metadata": {},
     "output_type": "execute_result"
    }
   ],
   "source": [
    "%%bigquery\n",
    "SELECT market_segment, count(*) as num_guests, round(count(*)*100/(select count(*) from `ba775-project-t-2-b-1.hotel_booking.hotel_booking_dataset`),2) \n",
    "AS percent_of_guests\n",
    "FROM `ba775-project-t-2-b-1.hotel_booking.hotel_booking_dataset`\n",
    "GROUP BY market_segment\n",
    "ORDER BY 2 DESC"
   ]
  },
  {
   "cell_type": "markdown",
   "id": "faac6202",
   "metadata": {},
   "source": [
    "### 3.2 What type of meal plans do guests generally go for?"
   ]
  },
  {
   "cell_type": "markdown",
   "id": "758a859a",
   "metadata": {},
   "source": [
    "The result reports that guests generally go for breakfast-only plan, with 77 percent opting for it."
   ]
  },
  {
   "cell_type": "code",
   "execution_count": 35,
   "id": "94057386",
   "metadata": {},
   "outputs": [
    {
     "name": "stderr",
     "output_type": "stream",
     "text": [
      "Query complete after 0.00s: 100%|██████████| 1/1 [00:00<00:00, 875.64query/s] \n",
      "Downloading: 100%|██████████| 4/4 [00:01<00:00,  2.75rows/s]\n"
     ]
    },
    {
     "data": {
      "text/html": [
       "<div>\n",
       "<style scoped>\n",
       "    .dataframe tbody tr th:only-of-type {\n",
       "        vertical-align: middle;\n",
       "    }\n",
       "\n",
       "    .dataframe tbody tr th {\n",
       "        vertical-align: top;\n",
       "    }\n",
       "\n",
       "    .dataframe thead th {\n",
       "        text-align: right;\n",
       "    }\n",
       "</style>\n",
       "<table border=\"1\" class=\"dataframe\">\n",
       "  <thead>\n",
       "    <tr style=\"text-align: right;\">\n",
       "      <th></th>\n",
       "      <th>Meal_type</th>\n",
       "      <th>num_guest</th>\n",
       "      <th>percent_of_guests</th>\n",
       "    </tr>\n",
       "  </thead>\n",
       "  <tbody>\n",
       "    <tr>\n",
       "      <th>0</th>\n",
       "      <td>Only Breakfast</td>\n",
       "      <td>92310</td>\n",
       "      <td>77.32</td>\n",
       "    </tr>\n",
       "    <tr>\n",
       "      <th>1</th>\n",
       "      <td>Breakfast + Additional Meal</td>\n",
       "      <td>14463</td>\n",
       "      <td>12.11</td>\n",
       "    </tr>\n",
       "    <tr>\n",
       "      <th>2</th>\n",
       "      <td>No meals</td>\n",
       "      <td>11819</td>\n",
       "      <td>9.90</td>\n",
       "    </tr>\n",
       "    <tr>\n",
       "      <th>3</th>\n",
       "      <td>Breakfast, Lunch and Dinner</td>\n",
       "      <td>798</td>\n",
       "      <td>0.67</td>\n",
       "    </tr>\n",
       "  </tbody>\n",
       "</table>\n",
       "</div>"
      ],
      "text/plain": [
       "                     Meal_type  num_guest  percent_of_guests\n",
       "0               Only Breakfast      92310              77.32\n",
       "1  Breakfast + Additional Meal      14463              12.11\n",
       "2                     No meals      11819               9.90\n",
       "3  Breakfast, Lunch and Dinner        798               0.67"
      ]
     },
     "execution_count": 35,
     "metadata": {},
     "output_type": "execute_result"
    }
   ],
   "source": [
    "%%bigquery\n",
    "SELECT case when meal = 'BB' then 'Only Breakfast'\n",
    "when meal = 'HB' then 'Breakfast + Additional Meal'\n",
    "when meal = 'FB' then 'Breakfast, Lunch and Dinner'\n",
    "when meal = 'SC' or meal = 'Undefined' then 'No meals' end as Meal_type\n",
    ", count(*) AS num_guest\n",
    ",round(count(*)*100/(select count(*) from `ba775-project-t-2-b-1.hotel_booking.hotel_booking_dataset`),2) \n",
    "AS percent_of_guests\n",
    "FROM `ba775-project-t-2-b-1.hotel_booking.hotel_booking_dataset`\n",
    "GROUP BY meal_type\n",
    "ORDER BY num_guest DESC\n",
    "\n",
    "#Undefined/SC – no meal package;\n",
    "#BB – Bed & Breakfast;\n",
    "#HB – Half board (breakfast and one other meal – usually dinner);\n",
    "#FB – Full board (breakfast, lunch and dinner)"
   ]
  },
  {
   "cell_type": "markdown",
   "id": "d8952499",
   "metadata": {},
   "source": [
    "### 3.3 Which months have the most reservations? and what is its average booking lead time?"
   ]
  },
  {
   "cell_type": "markdown",
   "id": "f00af72f",
   "metadata": {},
   "source": [
    "On average there are more bookings in August, July and these months also correspond with a higher boooking lead time."
   ]
  },
  {
   "cell_type": "code",
   "execution_count": 36,
   "id": "e600aad1",
   "metadata": {},
   "outputs": [
    {
     "name": "stderr",
     "output_type": "stream",
     "text": [
      "Query complete after 0.00s: 100%|██████████| 1/1 [00:00<00:00, 767.77query/s] \n",
      "Downloading: 100%|██████████| 12/12 [00:01<00:00,  8.92rows/s]\n"
     ]
    },
    {
     "data": {
      "text/html": [
       "<div>\n",
       "<style scoped>\n",
       "    .dataframe tbody tr th:only-of-type {\n",
       "        vertical-align: middle;\n",
       "    }\n",
       "\n",
       "    .dataframe tbody tr th {\n",
       "        vertical-align: top;\n",
       "    }\n",
       "\n",
       "    .dataframe thead th {\n",
       "        text-align: right;\n",
       "    }\n",
       "</style>\n",
       "<table border=\"1\" class=\"dataframe\">\n",
       "  <thead>\n",
       "    <tr style=\"text-align: right;\">\n",
       "      <th></th>\n",
       "      <th>arrival_date_month</th>\n",
       "      <th>num_guest</th>\n",
       "      <th>lead_time</th>\n",
       "    </tr>\n",
       "  </thead>\n",
       "  <tbody>\n",
       "    <tr>\n",
       "      <th>0</th>\n",
       "      <td>August</td>\n",
       "      <td>13877</td>\n",
       "      <td>121.14</td>\n",
       "    </tr>\n",
       "    <tr>\n",
       "      <th>1</th>\n",
       "      <td>July</td>\n",
       "      <td>12661</td>\n",
       "      <td>136.32</td>\n",
       "    </tr>\n",
       "    <tr>\n",
       "      <th>2</th>\n",
       "      <td>May</td>\n",
       "      <td>11791</td>\n",
       "      <td>117.65</td>\n",
       "    </tr>\n",
       "    <tr>\n",
       "      <th>3</th>\n",
       "      <td>October</td>\n",
       "      <td>11160</td>\n",
       "      <td>122.99</td>\n",
       "    </tr>\n",
       "    <tr>\n",
       "      <th>4</th>\n",
       "      <td>April</td>\n",
       "      <td>11089</td>\n",
       "      <td>94.82</td>\n",
       "    </tr>\n",
       "    <tr>\n",
       "      <th>5</th>\n",
       "      <td>June</td>\n",
       "      <td>10939</td>\n",
       "      <td>128.25</td>\n",
       "    </tr>\n",
       "    <tr>\n",
       "      <th>6</th>\n",
       "      <td>September</td>\n",
       "      <td>10508</td>\n",
       "      <td>136.68</td>\n",
       "    </tr>\n",
       "    <tr>\n",
       "      <th>7</th>\n",
       "      <td>March</td>\n",
       "      <td>9794</td>\n",
       "      <td>70.12</td>\n",
       "    </tr>\n",
       "    <tr>\n",
       "      <th>8</th>\n",
       "      <td>February</td>\n",
       "      <td>8068</td>\n",
       "      <td>47.86</td>\n",
       "    </tr>\n",
       "    <tr>\n",
       "      <th>9</th>\n",
       "      <td>November</td>\n",
       "      <td>6794</td>\n",
       "      <td>76.58</td>\n",
       "    </tr>\n",
       "    <tr>\n",
       "      <th>10</th>\n",
       "      <td>December</td>\n",
       "      <td>6780</td>\n",
       "      <td>73.56</td>\n",
       "    </tr>\n",
       "    <tr>\n",
       "      <th>11</th>\n",
       "      <td>January</td>\n",
       "      <td>5929</td>\n",
       "      <td>45.31</td>\n",
       "    </tr>\n",
       "  </tbody>\n",
       "</table>\n",
       "</div>"
      ],
      "text/plain": [
       "   arrival_date_month  num_guest  lead_time\n",
       "0              August      13877     121.14\n",
       "1                July      12661     136.32\n",
       "2                 May      11791     117.65\n",
       "3             October      11160     122.99\n",
       "4               April      11089      94.82\n",
       "5                June      10939     128.25\n",
       "6           September      10508     136.68\n",
       "7               March       9794      70.12\n",
       "8            February       8068      47.86\n",
       "9            November       6794      76.58\n",
       "10           December       6780      73.56\n",
       "11            January       5929      45.31"
      ]
     },
     "execution_count": 36,
     "metadata": {},
     "output_type": "execute_result"
    }
   ],
   "source": [
    "%%bigquery\n",
    "SELECT arrival_date_month, count(*) AS num_bookings, round(avg(lead_time),2) lead_time\n",
    "FROM `ba775-project-t-2-b-1.hotel_booking.hotel_booking_dataset`\n",
    "GROUP BY arrival_date_month\n",
    "ORDER BY num_guest DESC"
   ]
  },
  {
   "cell_type": "markdown",
   "id": "7bc07d13",
   "metadata": {},
   "source": [
    "### 3.4 Which month do guests spend the longest time in a hotel?"
   ]
  },
  {
   "cell_type": "markdown",
   "id": "49fbb945",
   "metadata": {},
   "source": [
    "On average, Guest have longer stays in July and August spending around 2.25 and 2.12 days, respectively."
   ]
  },
  {
   "cell_type": "code",
   "execution_count": 39,
   "id": "0af6051e",
   "metadata": {},
   "outputs": [
    {
     "name": "stderr",
     "output_type": "stream",
     "text": [
      "Query complete after 0.00s: 100%|██████████| 3/3 [00:00<00:00, 1651.08query/s]                        \n",
      "Downloading: 100%|██████████| 12/12 [00:01<00:00,  8.47rows/s]\n"
     ]
    },
    {
     "data": {
      "text/html": [
       "<div>\n",
       "<style scoped>\n",
       "    .dataframe tbody tr th:only-of-type {\n",
       "        vertical-align: middle;\n",
       "    }\n",
       "\n",
       "    .dataframe tbody tr th {\n",
       "        vertical-align: top;\n",
       "    }\n",
       "\n",
       "    .dataframe thead th {\n",
       "        text-align: right;\n",
       "    }\n",
       "</style>\n",
       "<table border=\"1\" class=\"dataframe\">\n",
       "  <thead>\n",
       "    <tr style=\"text-align: right;\">\n",
       "      <th></th>\n",
       "      <th>arrival_date_month</th>\n",
       "      <th>avg_nights_per_stay</th>\n",
       "    </tr>\n",
       "  </thead>\n",
       "  <tbody>\n",
       "    <tr>\n",
       "      <th>0</th>\n",
       "      <td>July</td>\n",
       "      <td>2.24</td>\n",
       "    </tr>\n",
       "    <tr>\n",
       "      <th>1</th>\n",
       "      <td>August</td>\n",
       "      <td>2.12</td>\n",
       "    </tr>\n",
       "    <tr>\n",
       "      <th>2</th>\n",
       "      <td>April</td>\n",
       "      <td>1.90</td>\n",
       "    </tr>\n",
       "    <tr>\n",
       "      <th>3</th>\n",
       "      <td>September</td>\n",
       "      <td>1.88</td>\n",
       "    </tr>\n",
       "    <tr>\n",
       "      <th>4</th>\n",
       "      <td>June</td>\n",
       "      <td>1.84</td>\n",
       "    </tr>\n",
       "    <tr>\n",
       "      <th>5</th>\n",
       "      <td>October</td>\n",
       "      <td>1.79</td>\n",
       "    </tr>\n",
       "    <tr>\n",
       "      <th>6</th>\n",
       "      <td>May</td>\n",
       "      <td>1.74</td>\n",
       "    </tr>\n",
       "    <tr>\n",
       "      <th>7</th>\n",
       "      <td>December</td>\n",
       "      <td>1.73</td>\n",
       "    </tr>\n",
       "    <tr>\n",
       "      <th>8</th>\n",
       "      <td>March</td>\n",
       "      <td>1.72</td>\n",
       "    </tr>\n",
       "    <tr>\n",
       "      <th>9</th>\n",
       "      <td>February</td>\n",
       "      <td>1.71</td>\n",
       "    </tr>\n",
       "    <tr>\n",
       "      <th>10</th>\n",
       "      <td>November</td>\n",
       "      <td>1.57</td>\n",
       "    </tr>\n",
       "    <tr>\n",
       "      <th>11</th>\n",
       "      <td>January</td>\n",
       "      <td>1.56</td>\n",
       "    </tr>\n",
       "  </tbody>\n",
       "</table>\n",
       "</div>"
      ],
      "text/plain": [
       "   arrival_date_month  avg_nights_per_stay\n",
       "0                July                 2.24\n",
       "1              August                 2.12\n",
       "2               April                 1.90\n",
       "3           September                 1.88\n",
       "4                June                 1.84\n",
       "5             October                 1.79\n",
       "6                 May                 1.74\n",
       "7            December                 1.73\n",
       "8               March                 1.72\n",
       "9            February                 1.71\n",
       "10           November                 1.57\n",
       "11            January                 1.56"
      ]
     },
     "execution_count": 39,
     "metadata": {},
     "output_type": "execute_result"
    }
   ],
   "source": [
    "%%bigquery\n",
    "SELECT arrival_date_month, round(avg(stays_in_weekend_nights + stays_in_weekend_nights),2) as avg_nights_per_stay\n",
    "FROM `ba775-project-t-2-b-1.hotel_booking.hotel_booking_dataset`\n",
    "GROUP BY 1 order by 2 desc"
   ]
  },
  {
   "cell_type": "markdown",
   "id": "a8cda51d",
   "metadata": {},
   "source": [
    "### 3.5 When do hotels have the most reservations by date?"
   ]
  },
  {
   "cell_type": "markdown",
   "id": "cba28008",
   "metadata": {},
   "source": [
    "From the result the maximum number of bookings were for 5th Dec, 2015, which coresponded with the holiday \"Zweiter Advent\" in Portugal.\n",
    "Even though on average, December has one of the lowest number of bookings. "
   ]
  },
  {
   "cell_type": "code",
   "execution_count": 40,
   "id": "24850317",
   "metadata": {},
   "outputs": [
    {
     "name": "stderr",
     "output_type": "stream",
     "text": [
      "Query complete after 0.00s: 100%|██████████| 1/1 [00:00<00:00, 746.72query/s] \n",
      "Downloading: 100%|██████████| 793/793 [00:01<00:00, 583.14rows/s]\n"
     ]
    },
    {
     "data": {
      "text/html": [
       "<div>\n",
       "<style scoped>\n",
       "    .dataframe tbody tr th:only-of-type {\n",
       "        vertical-align: middle;\n",
       "    }\n",
       "\n",
       "    .dataframe tbody tr th {\n",
       "        vertical-align: top;\n",
       "    }\n",
       "\n",
       "    .dataframe thead th {\n",
       "        text-align: right;\n",
       "    }\n",
       "</style>\n",
       "<table border=\"1\" class=\"dataframe\">\n",
       "  <thead>\n",
       "    <tr style=\"text-align: right;\">\n",
       "      <th></th>\n",
       "      <th>date</th>\n",
       "      <th>reservation_num</th>\n",
       "    </tr>\n",
       "  </thead>\n",
       "  <tbody>\n",
       "    <tr>\n",
       "      <th>0</th>\n",
       "      <td>2015-12-05</td>\n",
       "      <td>448</td>\n",
       "    </tr>\n",
       "    <tr>\n",
       "      <th>1</th>\n",
       "      <td>2016-11-07</td>\n",
       "      <td>366</td>\n",
       "    </tr>\n",
       "    <tr>\n",
       "      <th>2</th>\n",
       "      <td>2015-10-16</td>\n",
       "      <td>356</td>\n",
       "    </tr>\n",
       "    <tr>\n",
       "      <th>3</th>\n",
       "      <td>2016-10-13</td>\n",
       "      <td>344</td>\n",
       "    </tr>\n",
       "    <tr>\n",
       "      <th>4</th>\n",
       "      <td>2015-09-18</td>\n",
       "      <td>340</td>\n",
       "    </tr>\n",
       "    <tr>\n",
       "      <th>...</th>\n",
       "      <td>...</td>\n",
       "      <td>...</td>\n",
       "    </tr>\n",
       "    <tr>\n",
       "      <th>788</th>\n",
       "      <td>2015-12-15</td>\n",
       "      <td>29</td>\n",
       "    </tr>\n",
       "    <tr>\n",
       "      <th>789</th>\n",
       "      <td>2015-11-15</td>\n",
       "      <td>28</td>\n",
       "    </tr>\n",
       "    <tr>\n",
       "      <th>790</th>\n",
       "      <td>2015-12-07</td>\n",
       "      <td>27</td>\n",
       "    </tr>\n",
       "    <tr>\n",
       "      <th>791</th>\n",
       "      <td>2015-11-29</td>\n",
       "      <td>20</td>\n",
       "    </tr>\n",
       "    <tr>\n",
       "      <th>792</th>\n",
       "      <td>2015-12-13</td>\n",
       "      <td>19</td>\n",
       "    </tr>\n",
       "  </tbody>\n",
       "</table>\n",
       "<p>793 rows × 2 columns</p>\n",
       "</div>"
      ],
      "text/plain": [
       "           date  reservation_num\n",
       "0    2015-12-05              448\n",
       "1    2016-11-07              366\n",
       "2    2015-10-16              356\n",
       "3    2016-10-13              344\n",
       "4    2015-09-18              340\n",
       "..          ...              ...\n",
       "788  2015-12-15               29\n",
       "789  2015-11-15               28\n",
       "790  2015-12-07               27\n",
       "791  2015-11-29               20\n",
       "792  2015-12-13               19\n",
       "\n",
       "[793 rows x 2 columns]"
      ]
     },
     "execution_count": 40,
     "metadata": {},
     "output_type": "execute_result"
    }
   ],
   "source": [
    "%%bigquery\n",
    "SELECT PARSE_DATE(\"%Y/%B/%d\", concat(arrival_date_year,\"/\",arrival_date_month,\"/\",arrival_date_day_of_month)) date,\n",
    "count(*) as reservation_num\n",
    "from `ba775-project-t-2-b-1.hotel_booking.hotel_booking_dataset`\n",
    "group by 1\n",
    "order by 2 desc;"
   ]
  },
  {
   "cell_type": "markdown",
   "id": "17f49691",
   "metadata": {},
   "source": [
    "## 4. Cancellation Analysis"
   ]
  },
  {
   "cell_type": "markdown",
   "id": "085fbe53",
   "metadata": {},
   "source": [
    "### 4.1 Impact of lead days on cancelation"
   ]
  },
  {
   "cell_type": "markdown",
   "id": "41792253",
   "metadata": {},
   "source": [
    "The result shows that on average, the earlier a guest make's a booking the higher the cancellation rate is, with the cancellation rates of 600-649 and 500-600 lead days being highest, of 100%, and cancellation rate of lead time = 0 is the lowest, of 6.78%."
   ]
  },
  {
   "cell_type": "code",
   "execution_count": 43,
   "id": "15b16246",
   "metadata": {},
   "outputs": [
    {
     "name": "stderr",
     "output_type": "stream",
     "text": [
      "Query complete after 0.00s: 100%|██████████| 3/3 [00:00<00:00, 1593.18query/s]                        \n",
      "Downloading: 100%|██████████| 15/15 [00:01<00:00, 10.87rows/s]\n"
     ]
    },
    {
     "data": {
      "text/html": [
       "<div>\n",
       "<style scoped>\n",
       "    .dataframe tbody tr th:only-of-type {\n",
       "        vertical-align: middle;\n",
       "    }\n",
       "\n",
       "    .dataframe tbody tr th {\n",
       "        vertical-align: top;\n",
       "    }\n",
       "\n",
       "    .dataframe thead th {\n",
       "        text-align: right;\n",
       "    }\n",
       "</style>\n",
       "<table border=\"1\" class=\"dataframe\">\n",
       "  <thead>\n",
       "    <tr style=\"text-align: right;\">\n",
       "      <th></th>\n",
       "      <th>lead_time_range</th>\n",
       "      <th>total_frequency</th>\n",
       "      <th>cancellation_frequency</th>\n",
       "      <th>cancellation_rate</th>\n",
       "    </tr>\n",
       "  </thead>\n",
       "  <tbody>\n",
       "    <tr>\n",
       "      <th>0</th>\n",
       "      <td>550-600</td>\n",
       "      <td>119</td>\n",
       "      <td>119</td>\n",
       "      <td>100.00</td>\n",
       "    </tr>\n",
       "    <tr>\n",
       "      <th>1</th>\n",
       "      <td>600-649</td>\n",
       "      <td>145</td>\n",
       "      <td>145</td>\n",
       "      <td>100.00</td>\n",
       "    </tr>\n",
       "    <tr>\n",
       "      <th>2</th>\n",
       "      <td>500-549</td>\n",
       "      <td>215</td>\n",
       "      <td>148</td>\n",
       "      <td>68.84</td>\n",
       "    </tr>\n",
       "    <tr>\n",
       "      <th>3</th>\n",
       "      <td>450-499</td>\n",
       "      <td>636</td>\n",
       "      <td>437</td>\n",
       "      <td>68.71</td>\n",
       "    </tr>\n",
       "    <tr>\n",
       "      <th>4</th>\n",
       "      <td>300-349</td>\n",
       "      <td>4056</td>\n",
       "      <td>2772</td>\n",
       "      <td>68.34</td>\n",
       "    </tr>\n",
       "    <tr>\n",
       "      <th>5</th>\n",
       "      <td>350-399</td>\n",
       "      <td>1809</td>\n",
       "      <td>1200</td>\n",
       "      <td>66.33</td>\n",
       "    </tr>\n",
       "    <tr>\n",
       "      <th>6</th>\n",
       "      <td>400-449</td>\n",
       "      <td>998</td>\n",
       "      <td>659</td>\n",
       "      <td>66.03</td>\n",
       "    </tr>\n",
       "    <tr>\n",
       "      <th>7</th>\n",
       "      <td>250-299</td>\n",
       "      <td>5692</td>\n",
       "      <td>3398</td>\n",
       "      <td>59.70</td>\n",
       "    </tr>\n",
       "    <tr>\n",
       "      <th>8</th>\n",
       "      <td>200-249</td>\n",
       "      <td>7118</td>\n",
       "      <td>3408</td>\n",
       "      <td>47.88</td>\n",
       "    </tr>\n",
       "    <tr>\n",
       "      <th>9</th>\n",
       "      <td>150-199</td>\n",
       "      <td>12085</td>\n",
       "      <td>5558</td>\n",
       "      <td>45.99</td>\n",
       "    </tr>\n",
       "    <tr>\n",
       "      <th>10</th>\n",
       "      <td>100-149</td>\n",
       "      <td>14832</td>\n",
       "      <td>6532</td>\n",
       "      <td>44.04</td>\n",
       "    </tr>\n",
       "    <tr>\n",
       "      <th>11</th>\n",
       "      <td>50-99</td>\n",
       "      <td>21402</td>\n",
       "      <td>8596</td>\n",
       "      <td>40.16</td>\n",
       "    </tr>\n",
       "    <tr>\n",
       "      <th>12</th>\n",
       "      <td>1-49</td>\n",
       "      <td>43936</td>\n",
       "      <td>10822</td>\n",
       "      <td>24.63</td>\n",
       "    </tr>\n",
       "    <tr>\n",
       "      <th>13</th>\n",
       "      <td>0</td>\n",
       "      <td>6345</td>\n",
       "      <td>430</td>\n",
       "      <td>6.78</td>\n",
       "    </tr>\n",
       "    <tr>\n",
       "      <th>14</th>\n",
       "      <td>&gt;=700</td>\n",
       "      <td>2</td>\n",
       "      <td>0</td>\n",
       "      <td>0.00</td>\n",
       "    </tr>\n",
       "  </tbody>\n",
       "</table>\n",
       "</div>"
      ],
      "text/plain": [
       "   lead_time_range  total_frequency  cancellation_frequency  cancellation_rate\n",
       "0          550-600              119                     119             100.00\n",
       "1          600-649              145                     145             100.00\n",
       "2          500-549              215                     148              68.84\n",
       "3          450-499              636                     437              68.71\n",
       "4          300-349             4056                    2772              68.34\n",
       "5          350-399             1809                    1200              66.33\n",
       "6          400-449              998                     659              66.03\n",
       "7          250-299             5692                    3398              59.70\n",
       "8          200-249             7118                    3408              47.88\n",
       "9          150-199            12085                    5558              45.99\n",
       "10         100-149            14832                    6532              44.04\n",
       "11           50-99            21402                    8596              40.16\n",
       "12            1-49            43936                   10822              24.63\n",
       "13               0             6345                     430               6.78\n",
       "14           >=700                2                       0               0.00"
      ]
     },
     "execution_count": 43,
     "metadata": {},
     "output_type": "execute_result"
    }
   ],
   "source": [
    "%%bigquery\n",
    "SELECT\n",
    "CASE\n",
    "when lead_time=0 then '0'\n",
    "when lead_time>=1 and lead_time<50 then '1-49'\n",
    "when lead_time>=50 and lead_time <100 then '50-99'\n",
    "when lead_time>=100 and lead_time <150 then '100-149'\n",
    "when lead_time>=150 and lead_time <200 then '150-199'\n",
    "when lead_time>=200 and lead_time <250 then '200-249'\n",
    "when lead_time>=250 and lead_time <300 then '250-299'\n",
    "when lead_time>=300 and lead_time <350 then '300-349'\n",
    "when lead_time>=350 and lead_time <400 then '350-399'\n",
    "when lead_time>=400 and lead_time <450 then '400-449'\n",
    "when lead_time>=450 and lead_time <500 then '450-499'\n",
    "when lead_time>=500 and lead_time <550 then '500-549'\n",
    "when lead_time>=550 and lead_time <600 then '550-600'\n",
    "when lead_time>=600 and lead_time <650 then '600-649'\n",
    "when lead_time>=650 and lead_time <700 then '650-699'\n",
    "when lead_time>=700 then '>=700'\n",
    "end AS lead_time_range, count(*) AS total_frequency,\n",
    "SUM(is_canceled) AS cancellation_frequency, round(SUM(is_canceled)*100/count(*),2) AS cancellation_rate\n",
    "FROM `ba775-project-t-2-b-1.hotel_booking.hotel_booking_dataset`\n",
    "WHERE lead_time IS NOT null\n",
    "GROUP BY lead_time_range\n",
    "ORDER BY 4 DESC;"
   ]
  },
  {
   "cell_type": "markdown",
   "id": "f7fc6bcc",
   "metadata": {},
   "source": [
    "We divided the lead time according to several bars, and calculated the cancellation rate for each"
   ]
  },
  {
   "cell_type": "markdown",
   "id": "81aefdc3",
   "metadata": {},
   "source": [
    "### 4.2 Are guests who make more changes less likely or more likely to cancel？"
   ]
  },
  {
   "cell_type": "markdown",
   "id": "990cb017",
   "metadata": {},
   "source": [
    "Usually, when a guest makes change, it would increase the cost of the hotel. That is why we wanted to investigate the relationship between changes the guests made and the cancellation rate, because if the guest who made several changes finally cancel his/her order, it would cause more loss of the hotel."
   ]
  },
  {
   "cell_type": "markdown",
   "id": "f348f82e",
   "metadata": {},
   "source": [
    "From the results, we can see that guests who make changes in their bookings have a lower cancellation rate than those who do not."
   ]
  },
  {
   "cell_type": "code",
   "execution_count": 47,
   "id": "c14a4db4",
   "metadata": {},
   "outputs": [
    {
     "name": "stderr",
     "output_type": "stream",
     "text": [
      "Query complete after 0.00s: 100%|██████████| 3/3 [00:00<00:00, 1520.41query/s]                        \n",
      "Downloading: 100%|██████████| 2/2 [00:01<00:00,  1.27rows/s]\n"
     ]
    },
    {
     "data": {
      "text/html": [
       "<div>\n",
       "<style scoped>\n",
       "    .dataframe tbody tr th:only-of-type {\n",
       "        vertical-align: middle;\n",
       "    }\n",
       "\n",
       "    .dataframe tbody tr th {\n",
       "        vertical-align: top;\n",
       "    }\n",
       "\n",
       "    .dataframe thead th {\n",
       "        text-align: right;\n",
       "    }\n",
       "</style>\n",
       "<table border=\"1\" class=\"dataframe\">\n",
       "  <thead>\n",
       "    <tr style=\"text-align: right;\">\n",
       "      <th></th>\n",
       "      <th>change_in_booking</th>\n",
       "      <th>total_frequency</th>\n",
       "      <th>cancellation_frequency</th>\n",
       "      <th>cancellation_rate</th>\n",
       "    </tr>\n",
       "  </thead>\n",
       "  <tbody>\n",
       "    <tr>\n",
       "      <th>0</th>\n",
       "      <td>No</td>\n",
       "      <td>101314</td>\n",
       "      <td>41391</td>\n",
       "      <td>40.85</td>\n",
       "    </tr>\n",
       "    <tr>\n",
       "      <th>1</th>\n",
       "      <td>Yes</td>\n",
       "      <td>18076</td>\n",
       "      <td>2833</td>\n",
       "      <td>15.67</td>\n",
       "    </tr>\n",
       "  </tbody>\n",
       "</table>\n",
       "</div>"
      ],
      "text/plain": [
       "  change_in_booking  total_frequency  cancellation_frequency  \\\n",
       "0                No           101314                   41391   \n",
       "1               Yes            18076                    2833   \n",
       "\n",
       "   cancellation_rate  \n",
       "0              40.85  \n",
       "1              15.67  "
      ]
     },
     "execution_count": 47,
     "metadata": {},
     "output_type": "execute_result"
    }
   ],
   "source": [
    "%%bigquery\n",
    "SELECT case when booking_changes = 0 then 'No' else 'Yes' end as change_in_booking\n",
    ", COUNT(*) AS total_frequency, SUM(is_canceled) AS cancellation_frequency, \n",
    "round(SUM(is_canceled)*100/count(is_canceled),2) AS cancellation_rate\n",
    "FROM `ba775-project-t-2-b-1.hotel_booking.hotel_booking_dataset`\n",
    "GROUP BY change_in_booking\n",
    "ORDER BY cancellation_rate DESC"
   ]
  },
  {
   "cell_type": "markdown",
   "id": "c793f45f",
   "metadata": {},
   "source": [
    "### 4.3 Cancellation rate by different hotel"
   ]
  },
  {
   "cell_type": "markdown",
   "id": "603c702a",
   "metadata": {},
   "source": [
    "From the result, can be concluded that City Hotel experienced a higher cancellation rate."
   ]
  },
  {
   "cell_type": "code",
   "execution_count": 50,
   "id": "04424e9d",
   "metadata": {},
   "outputs": [
    {
     "name": "stderr",
     "output_type": "stream",
     "text": [
      "Query complete after 0.00s: 100%|██████████| 3/3 [00:00<00:00, 1752.25query/s]                        \n",
      "Downloading: 100%|██████████| 2/2 [00:01<00:00,  1.45rows/s]\n"
     ]
    },
    {
     "data": {
      "text/html": [
       "<div>\n",
       "<style scoped>\n",
       "    .dataframe tbody tr th:only-of-type {\n",
       "        vertical-align: middle;\n",
       "    }\n",
       "\n",
       "    .dataframe tbody tr th {\n",
       "        vertical-align: top;\n",
       "    }\n",
       "\n",
       "    .dataframe thead th {\n",
       "        text-align: right;\n",
       "    }\n",
       "</style>\n",
       "<table border=\"1\" class=\"dataframe\">\n",
       "  <thead>\n",
       "    <tr style=\"text-align: right;\">\n",
       "      <th></th>\n",
       "      <th>hotel</th>\n",
       "      <th>total_frequency</th>\n",
       "      <th>cancellation_frequency</th>\n",
       "      <th>cancellation_rate</th>\n",
       "    </tr>\n",
       "  </thead>\n",
       "  <tbody>\n",
       "    <tr>\n",
       "      <th>0</th>\n",
       "      <td>City Hotel</td>\n",
       "      <td>79330</td>\n",
       "      <td>33102</td>\n",
       "      <td>41.73</td>\n",
       "    </tr>\n",
       "    <tr>\n",
       "      <th>1</th>\n",
       "      <td>Resort Hotel</td>\n",
       "      <td>40060</td>\n",
       "      <td>11122</td>\n",
       "      <td>27.76</td>\n",
       "    </tr>\n",
       "  </tbody>\n",
       "</table>\n",
       "</div>"
      ],
      "text/plain": [
       "          hotel  total_frequency  cancellation_frequency  cancellation_rate\n",
       "0    City Hotel            79330                   33102              41.73\n",
       "1  Resort Hotel            40060                   11122              27.76"
      ]
     },
     "execution_count": 50,
     "metadata": {},
     "output_type": "execute_result"
    }
   ],
   "source": [
    "%%bigquery\n",
    "SELECT hotel, COUNT(*) AS total_frequency, SUM(is_canceled) AS cancellation_frequency,\n",
    "round(SUM(is_canceled)*100/count(is_canceled),2) AS cancellation_rate\n",
    "FROM `ba775-project-t-2-b-1.hotel_booking.hotel_booking_dataset`\n",
    "GROUP BY hotel\n",
    "ORDER BY hotel;"
   ]
  },
  {
   "cell_type": "markdown",
   "id": "b9808856",
   "metadata": {},
   "source": [
    "### 4.4 Cancellation rate by distribution channel"
   ]
  },
  {
   "cell_type": "markdown",
   "id": "94835140",
   "metadata": {},
   "source": [
    "Distribution channels are important for sales. Therefore, investigating the relationship between distribution channel and cancellation rate is necessary."
   ]
  },
  {
   "cell_type": "markdown",
   "id": "4684b582",
   "metadata": {},
   "source": [
    "It can be seen that orders of Direct have the lowest cancellation rate, while orders from TA/TO (Travel Agent/Tour Opeartor) and other channels have the highest cancellation rate. Thus, the hotels should focus on building there own distribution channel."
   ]
  },
  {
   "cell_type": "code",
   "execution_count": 51,
   "id": "f2d6898f",
   "metadata": {},
   "outputs": [
    {
     "name": "stderr",
     "output_type": "stream",
     "text": [
      "Query complete after 0.00s: 100%|██████████| 3/3 [00:00<00:00, 1530.40query/s]                        \n",
      "Downloading: 100%|██████████| 5/5 [00:01<00:00,  3.31rows/s]\n"
     ]
    },
    {
     "data": {
      "text/html": [
       "<div>\n",
       "<style scoped>\n",
       "    .dataframe tbody tr th:only-of-type {\n",
       "        vertical-align: middle;\n",
       "    }\n",
       "\n",
       "    .dataframe tbody tr th {\n",
       "        vertical-align: top;\n",
       "    }\n",
       "\n",
       "    .dataframe thead th {\n",
       "        text-align: right;\n",
       "    }\n",
       "</style>\n",
       "<table border=\"1\" class=\"dataframe\">\n",
       "  <thead>\n",
       "    <tr style=\"text-align: right;\">\n",
       "      <th></th>\n",
       "      <th>distribution_channel</th>\n",
       "      <th>total_frequency</th>\n",
       "      <th>cancellation_frequency</th>\n",
       "      <th>cancellation_rate</th>\n",
       "    </tr>\n",
       "  </thead>\n",
       "  <tbody>\n",
       "    <tr>\n",
       "      <th>0</th>\n",
       "      <td>Direct</td>\n",
       "      <td>14645</td>\n",
       "      <td>2557</td>\n",
       "      <td>17.46</td>\n",
       "    </tr>\n",
       "    <tr>\n",
       "      <th>1</th>\n",
       "      <td>GDS</td>\n",
       "      <td>193</td>\n",
       "      <td>37</td>\n",
       "      <td>19.17</td>\n",
       "    </tr>\n",
       "    <tr>\n",
       "      <th>2</th>\n",
       "      <td>Corporate</td>\n",
       "      <td>6677</td>\n",
       "      <td>1474</td>\n",
       "      <td>22.08</td>\n",
       "    </tr>\n",
       "    <tr>\n",
       "      <th>3</th>\n",
       "      <td>TA/TO</td>\n",
       "      <td>97870</td>\n",
       "      <td>40152</td>\n",
       "      <td>41.03</td>\n",
       "    </tr>\n",
       "    <tr>\n",
       "      <th>4</th>\n",
       "      <td>Undefined</td>\n",
       "      <td>5</td>\n",
       "      <td>4</td>\n",
       "      <td>80.00</td>\n",
       "    </tr>\n",
       "  </tbody>\n",
       "</table>\n",
       "</div>"
      ],
      "text/plain": [
       "  distribution_channel  total_frequency  cancellation_frequency  \\\n",
       "0               Direct            14645                    2557   \n",
       "1                  GDS              193                      37   \n",
       "2            Corporate             6677                    1474   \n",
       "3                TA/TO            97870                   40152   \n",
       "4            Undefined                5                       4   \n",
       "\n",
       "   cancellation_rate  \n",
       "0              17.46  \n",
       "1              19.17  \n",
       "2              22.08  \n",
       "3              41.03  \n",
       "4              80.00  "
      ]
     },
     "execution_count": 51,
     "metadata": {},
     "output_type": "execute_result"
    }
   ],
   "source": [
    "%%bigquery\n",
    "SELECT distribution_channel, count(*) AS total_frequency, SUM(is_canceled) AS cancellation_frequency, \n",
    "round(SUM(is_canceled)*100/COUNT(*),2) AS cancellation_rate\n",
    "FROM `ba775-project-t-2-b-1.hotel_booking.hotel_booking_dataset`\n",
    "GROUP BY distribution_channel\n",
    "ORDER BY cancellation_rate"
   ]
  },
  {
   "cell_type": "markdown",
   "id": "e482aa73",
   "metadata": {},
   "source": [
    "### 4.5 Cancellation rate by deposit type"
   ]
  },
  {
   "cell_type": "markdown",
   "id": "4c590c15",
   "metadata": {},
   "source": [
    "The deposit is a means for the hotel to reduce the loss caused by the cancellation of the customer. But does it increase the probability of cancellation to some extent?"
   ]
  },
  {
   "cell_type": "markdown",
   "id": "75f18693",
   "metadata": {},
   "source": [
    "We can see that the harshest, non-refundable deposit type actually has the highest cancellation rate. Meanwhile, refundable deposits have the lowest cancellation rates.</br>\n",
    "We also speculate that the non-refundable deposit type may have reduced the desire of customers to book this hotel. So all things considered, setting a non-refundable deposit is not a good way to reduce losses."
   ]
  },
  {
   "cell_type": "code",
   "execution_count": 52,
   "id": "4ed888bc",
   "metadata": {},
   "outputs": [
    {
     "name": "stderr",
     "output_type": "stream",
     "text": [
      "Query complete after 0.00s: 100%|██████████| 2/2 [00:00<00:00, 1086.89query/s]                        \n",
      "Downloading: 100%|██████████| 3/3 [00:01<00:00,  1.87rows/s]\n"
     ]
    },
    {
     "data": {
      "text/html": [
       "<div>\n",
       "<style scoped>\n",
       "    .dataframe tbody tr th:only-of-type {\n",
       "        vertical-align: middle;\n",
       "    }\n",
       "\n",
       "    .dataframe tbody tr th {\n",
       "        vertical-align: top;\n",
       "    }\n",
       "\n",
       "    .dataframe thead th {\n",
       "        text-align: right;\n",
       "    }\n",
       "</style>\n",
       "<table border=\"1\" class=\"dataframe\">\n",
       "  <thead>\n",
       "    <tr style=\"text-align: right;\">\n",
       "      <th></th>\n",
       "      <th>deposit_type</th>\n",
       "      <th>total_frequency</th>\n",
       "      <th>cancellation_frequency</th>\n",
       "      <th>cancellation_rate</th>\n",
       "    </tr>\n",
       "  </thead>\n",
       "  <tbody>\n",
       "    <tr>\n",
       "      <th>0</th>\n",
       "      <td>No Deposit</td>\n",
       "      <td>104641</td>\n",
       "      <td>29694</td>\n",
       "      <td>28.38</td>\n",
       "    </tr>\n",
       "    <tr>\n",
       "      <th>1</th>\n",
       "      <td>Non Refund</td>\n",
       "      <td>14587</td>\n",
       "      <td>14494</td>\n",
       "      <td>99.36</td>\n",
       "    </tr>\n",
       "    <tr>\n",
       "      <th>2</th>\n",
       "      <td>Refundable</td>\n",
       "      <td>162</td>\n",
       "      <td>36</td>\n",
       "      <td>22.22</td>\n",
       "    </tr>\n",
       "  </tbody>\n",
       "</table>\n",
       "</div>"
      ],
      "text/plain": [
       "  deposit_type  total_frequency  cancellation_frequency  cancellation_rate\n",
       "0   No Deposit           104641                   29694              28.38\n",
       "1   Non Refund            14587                   14494              99.36\n",
       "2   Refundable              162                      36              22.22"
      ]
     },
     "execution_count": 52,
     "metadata": {},
     "output_type": "execute_result"
    }
   ],
   "source": [
    "%%bigquery\n",
    "SELECT deposit_type, count(*) AS total_frequency, SUM(is_canceled) AS cancellation_frequency, \n",
    "round(SUM(is_canceled)*100/COUNT(*),2) AS cancellation_rate\n",
    "FROM `ba775-project-t-2-b-1.hotel_booking.hotel_booking_dataset`\n",
    "GROUP BY deposit_type"
   ]
  },
  {
   "cell_type": "markdown",
   "id": "723c9a80",
   "metadata": {},
   "source": [
    "### 4.6 Canceltation rate by customer type"
   ]
  },
  {
   "cell_type": "markdown",
   "id": "4cc05b72",
   "metadata": {},
   "source": [
    "It can be concluded that the Transient customers have the highest cancellation_rate, while the Group customers have the lowest cancellation rates."
   ]
  },
  {
   "cell_type": "code",
   "execution_count": 54,
   "id": "eb6f7b31",
   "metadata": {},
   "outputs": [
    {
     "name": "stderr",
     "output_type": "stream",
     "text": [
      "Query complete after 0.00s: 100%|██████████| 3/3 [00:00<00:00, 1207.46query/s]                        \n",
      "Downloading: 100%|██████████| 4/4 [00:01<00:00,  2.90rows/s]\n"
     ]
    },
    {
     "data": {
      "text/html": [
       "<div>\n",
       "<style scoped>\n",
       "    .dataframe tbody tr th:only-of-type {\n",
       "        vertical-align: middle;\n",
       "    }\n",
       "\n",
       "    .dataframe tbody tr th {\n",
       "        vertical-align: top;\n",
       "    }\n",
       "\n",
       "    .dataframe thead th {\n",
       "        text-align: right;\n",
       "    }\n",
       "</style>\n",
       "<table border=\"1\" class=\"dataframe\">\n",
       "  <thead>\n",
       "    <tr style=\"text-align: right;\">\n",
       "      <th></th>\n",
       "      <th>customer_type</th>\n",
       "      <th>total_frequency</th>\n",
       "      <th>cancellation_frequency</th>\n",
       "      <th>cancellation_rate</th>\n",
       "    </tr>\n",
       "  </thead>\n",
       "  <tbody>\n",
       "    <tr>\n",
       "      <th>0</th>\n",
       "      <td>Transient</td>\n",
       "      <td>89613</td>\n",
       "      <td>36514</td>\n",
       "      <td>40.75</td>\n",
       "    </tr>\n",
       "    <tr>\n",
       "      <th>1</th>\n",
       "      <td>Contract</td>\n",
       "      <td>4076</td>\n",
       "      <td>1262</td>\n",
       "      <td>30.96</td>\n",
       "    </tr>\n",
       "    <tr>\n",
       "      <th>2</th>\n",
       "      <td>Transient-Party</td>\n",
       "      <td>25124</td>\n",
       "      <td>6389</td>\n",
       "      <td>25.43</td>\n",
       "    </tr>\n",
       "    <tr>\n",
       "      <th>3</th>\n",
       "      <td>Group</td>\n",
       "      <td>577</td>\n",
       "      <td>59</td>\n",
       "      <td>10.23</td>\n",
       "    </tr>\n",
       "  </tbody>\n",
       "</table>\n",
       "</div>"
      ],
      "text/plain": [
       "     customer_type  total_frequency  cancellation_frequency  cancellation_rate\n",
       "0        Transient            89613                   36514              40.75\n",
       "1         Contract             4076                    1262              30.96\n",
       "2  Transient-Party            25124                    6389              25.43\n",
       "3            Group              577                      59              10.23"
      ]
     },
     "execution_count": 54,
     "metadata": {},
     "output_type": "execute_result"
    }
   ],
   "source": [
    "%%bigquery\n",
    "SELECT customer_type, count(*) AS total_frequency, SUM(is_canceled) AS cancellation_frequency, \n",
    "round(SUM(is_canceled)*100/COUNT(*),2) AS cancellation_rate\n",
    "FROM `ba775-project-t-2-b-1.hotel_booking.hotel_booking_dataset`\n",
    "GROUP BY customer_type\n",
    "ORDER BY SUM(is_canceled)/COUNT(*) DESC, SUM(is_canceled) DESC"
   ]
  },
  {
   "cell_type": "code",
   "execution_count": null,
   "id": "38623870",
   "metadata": {},
   "outputs": [],
   "source": []
  }
 ],
 "metadata": {
  "environment": {
   "name": "common-cpu.m78",
   "type": "gcloud",
   "uri": "gcr.io/deeplearning-platform-release/base-cpu:m78"
  },
  "kernelspec": {
   "display_name": "Python 3",
   "language": "python",
   "name": "python3"
  },
  "language_info": {
   "codemirror_mode": {
    "name": "ipython",
    "version": 3
   },
   "file_extension": ".py",
   "mimetype": "text/x-python",
   "name": "python",
   "nbconvert_exporter": "python",
   "pygments_lexer": "ipython3",
   "version": "3.7.10"
  }
 },
 "nbformat": 4,
 "nbformat_minor": 5
}
